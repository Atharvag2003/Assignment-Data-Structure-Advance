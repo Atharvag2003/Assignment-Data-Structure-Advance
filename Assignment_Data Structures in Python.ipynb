{
 "cells": [
  {
   "cell_type": "markdown",
   "id": "8fe6cfb3",
   "metadata": {},
   "source": [
    "1. Write a code to reverse a string."
   ]
  },
  {
   "cell_type": "code",
   "execution_count": 1,
   "id": "3cdd8c64",
   "metadata": {},
   "outputs": [
    {
     "name": "stdout",
     "output_type": "stream",
     "text": [
      "Enter a stringatharva\n",
      "The original string is : atharva\n",
      "The reversed string(using loops) is : avrahta\n"
     ]
    }
   ],
   "source": [
    "def reverse(string):\n",
    "    str = \"\"\n",
    "    for i in string:\n",
    "        str = i + str\n",
    "    return str\n",
    "\n",
    "string = input(\"Enter a string\")\n",
    "\n",
    "print(\"The original string is : \", end=\"\")\n",
    "print(string)\n",
    "\n",
    "print(\"The reversed string(using loops) is : \", end=\"\")\n",
    "print(reverse(string))\n"
   ]
  },
  {
   "cell_type": "markdown",
   "id": "f2530756",
   "metadata": {},
   "source": [
    " 2. Write a code to count the number of vowels in a string."
   ]
  },
  {
   "cell_type": "code",
   "execution_count": 2,
   "id": "8f43d11a",
   "metadata": {},
   "outputs": [
    {
     "name": "stdout",
     "output_type": "stream",
     "text": [
      "Enter a string: atharva\n",
      "3\n"
     ]
    }
   ],
   "source": [
    "def count_vowels(string):\n",
    "    vowel_count = 0\n",
    "    vowels = \"aeiouAEIOU\"\n",
    "    for char in string:\n",
    "         if char in vowels:\n",
    "            vowel_count += 1\n",
    "    return vowel_count\n",
    "String = input(\"Enter a string: \")\n",
    "vowel_count = count_vowels(String)\n",
    "print(vowel_count)"
   ]
  },
  {
   "cell_type": "markdown",
   "id": "3dd92978",
   "metadata": {},
   "source": [
    " 3. Write a code to check if a given string is a palindrome or not."
   ]
  },
  {
   "cell_type": "code",
   "execution_count": 3,
   "id": "485de71e",
   "metadata": {},
   "outputs": [
    {
     "name": "stdout",
     "output_type": "stream",
     "text": [
      "Enter a string: atharva\n",
      "The string is a palindrome.\n"
     ]
    }
   ],
   "source": [
    "string = input(\"Enter a string: \")\n",
    "\n",
    "reversed_string = string [::1]\n",
    "if string == reversed_string:\n",
    "    print(\"The string is a palindrome.\")\n",
    "else:\n",
    "    print(\"The string is not a palindrome.\")"
   ]
  },
  {
   "cell_type": "markdown",
   "id": "34b3e5cb",
   "metadata": {},
   "source": [
    " 4. Write a code to check if two given strings are anagram of each other."
   ]
  },
  {
   "cell_type": "code",
   "execution_count": 4,
   "id": "55948488",
   "metadata": {},
   "outputs": [
    {
     "name": "stdout",
     "output_type": "stream",
     "text": [
      "Enter the first string: atharva\n",
      "Enter the second string: atbfa\n",
      "The strings are not anagrams.\n"
     ]
    }
   ],
   "source": [
    "string1 = input(\"Enter the first string: \")\n",
    "string2 = input(\"Enter the second string: \")\n",
    "\n",
    "if len(string1) != len(string2):\n",
    "    print(\"The strings are not anagrams.\")\n",
    "else:\n",
    "    sorted_string1 = sorted(string1)\n",
    "    sorted_string2 = sorted(string2)\n",
    "    \n",
    "    if sorted_string1 == sorted_string2:\n",
    "        print(\"The strings are anagrams.\")\n",
    "    else:\n",
    "        print(\"The strings are not anagrams.\")"
   ]
  },
  {
   "cell_type": "markdown",
   "id": "02e80f6c",
   "metadata": {},
   "source": [
    " 5. Write a code to find all occurrences of a given substring within another string."
   ]
  },
  {
   "cell_type": "code",
   "execution_count": null,
   "id": "8fd2f101",
   "metadata": {},
   "outputs": [
    {
     "name": "stdout",
     "output_type": "stream",
     "text": [
      "Enter the main string: atharva ghanekar\n",
      "Enter the substring to find: atharva\n"
     ]
    }
   ],
   "source": [
    "string = input(\"Enter the main string: \")\n",
    "substring = input(\"Enter the substring to find: \")\n",
    "occurrences = 0\n",
    "index = 0\n",
    "while True:\n",
    "    index = string.find(substring, index)\n",
    "    if index == -1:\n",
    "        break\n",
    "        occurrences += 1\n",
    "        index += len(substring)\n",
    "        print(\"The substring appears\", occurrences , \"times in the main string.\")"
   ]
  },
  {
   "cell_type": "markdown",
   "id": "86f9c3fa",
   "metadata": {},
   "source": [
    " 6. Write a code to perform basic string compression using the counts of repeated characters."
   ]
  },
  {
   "cell_type": "code",
   "execution_count": 3,
   "id": "d46278cb",
   "metadata": {},
   "outputs": [
    {
     "name": "stdout",
     "output_type": "stream",
     "text": [
      "a2b1c5a3\n"
     ]
    }
   ],
   "source": [
    "string = \"aabcccccaaa\"\n",
    "compressed = \"\"\n",
    "count = 1\n",
    "\n",
    "for i in range(1, len(string)):\n",
    "    if string[i] == string[i-1]:\n",
    "        count += 1\n",
    "    else:\n",
    "        compressed += string[i-1] + str(count)\n",
    "        count = 1\n",
    "\n",
    "compressed += string[-1] + str(count)\n",
    "\n",
    "if len(compressed) >= len(string):\n",
    "    compressed = string\n",
    "\n",
    "print(compressed)"
   ]
  },
  {
   "cell_type": "markdown",
   "id": "25cc20a9",
   "metadata": {},
   "source": [
    " 7. Write a code to determine if a string has all unique characters."
   ]
  },
  {
   "cell_type": "code",
   "execution_count": 6,
   "id": "ddf1e404",
   "metadata": {},
   "outputs": [
    {
     "name": "stdout",
     "output_type": "stream",
     "text": [
      "All characters are unique.\n"
     ]
    }
   ],
   "source": [
    "string = \"abcde\"\n",
    "unique = True\n",
    "\n",
    "for i in range(len(string)):\n",
    "    for j in range(i+1, len(string)):\n",
    "        if string[i] == string[j]:\n",
    "            unique = False\n",
    "            break\n",
    "\n",
    "if unique:\n",
    "    print(\"All characters are unique.\")\n",
    "else:\n",
    "    print(\"There are duplicate characters.\")"
   ]
  },
  {
   "cell_type": "markdown",
   "id": "d054a6d3",
   "metadata": {},
   "source": [
    " 8. Write a code to convert a given string to uppercase or lowercase."
   ]
  },
  {
   "cell_type": "code",
   "execution_count": 7,
   "id": "3b6a2b87",
   "metadata": {},
   "outputs": [
    {
     "name": "stdout",
     "output_type": "stream",
     "text": [
      "Uppercase: HELLO WORLD\n",
      "Lowercase: hello world\n"
     ]
    }
   ],
   "source": [
    "string = \"hello world\"\n",
    "uppercase_string = \"\"\n",
    "for char in string:\n",
    "    uppercase_string += char.upper()\n",
    "    \n",
    "lowercase_string = \"\"\n",
    "for char in string:\n",
    "    lowercase_string += char.lower()\n",
    "\n",
    "print(\"Uppercase:\", uppercase_string)\n",
    "print(\"Lowercase:\", lowercase_string)"
   ]
  },
  {
   "cell_type": "markdown",
   "id": "04c0ca89",
   "metadata": {},
   "source": [
    " 9. Write a code to count the number of words in a string."
   ]
  },
  {
   "cell_type": "code",
   "execution_count": 8,
   "id": "01e9a13b",
   "metadata": {},
   "outputs": [
    {
     "name": "stdout",
     "output_type": "stream",
     "text": [
      "Number of words: 8\n"
     ]
    }
   ],
   "source": [
    "s = \"This is a sample string with multiple words\"\n",
    "words = s.split()\n",
    "count = len(words)\n",
    "print(\"Number of words:\", count)"
   ]
  },
  {
   "cell_type": "markdown",
   "id": "34c28da4",
   "metadata": {},
   "source": [
    " 10. Write a code to concatenate two strings without using the + operator."
   ]
  },
  {
   "cell_type": "code",
   "execution_count": 10,
   "id": "522428c6",
   "metadata": {},
   "outputs": [
    {
     "name": "stdout",
     "output_type": "stream",
     "text": [
      "hello world\n"
     ]
    }
   ],
   "source": [
    "str1 = \"hello \"\n",
    "str2 = \"world\"\n",
    "\n",
    "concatenated_str = \"\"\n",
    "for char in str1:\n",
    "    concatenated_str += char\n",
    "for char in str2:\n",
    "    concatenated_str += char\n",
    "\n",
    "print(concatenated_str)"
   ]
  },
  {
   "cell_type": "markdown",
   "id": "06e51be9",
   "metadata": {},
   "source": [
    " 11. Write a code to remove all occurrences of a specific element from a list."
   ]
  },
  {
   "cell_type": "code",
   "execution_count": 13,
   "id": "ed106e8a",
   "metadata": {},
   "outputs": [
    {
     "name": "stdout",
     "output_type": "stream",
     "text": [
      "[1, 3, 4, 5, 3, 4, 5]\n"
     ]
    }
   ],
   "source": [
    "lst = [1, 2, 3, 2, 4, 2, 5, 2, 3, 4, 5]\n",
    "element_to_remove = 2\n",
    "\n",
    "for i in range(len(lst)-1, -1, -1):\n",
    "    if lst[i] == element_to_remove:\n",
    "        lst.pop(i)\n",
    "\n",
    "print(lst)"
   ]
  },
  {
   "cell_type": "markdown",
   "id": "df7c54d9",
   "metadata": {},
   "source": [
    " 12. Implement a code to find the second largest number in a given list of integer."
   ]
  },
  {
   "cell_type": "code",
   "execution_count": 14,
   "id": "29ca163b",
   "metadata": {},
   "outputs": [
    {
     "name": "stdout",
     "output_type": "stream",
     "text": [
      "Second largest number: 7\n"
     ]
    }
   ],
   "source": [
    "numbers = [1, 5, 3, 9, 2, 7]\n",
    "\n",
    "largest = numbers[0]\n",
    "second_largest = numbers[0]\n",
    "\n",
    "for num in numbers:\n",
    "    if num > largest:\n",
    "        second_largest = largest\n",
    "        largest = num\n",
    "    elif num > second_largest and num != largest:\n",
    "        second_largest = num\n",
    "\n",
    "print(\"Second largest number:\", second_largest)"
   ]
  },
  {
   "cell_type": "markdown",
   "id": "fe0cc1d2",
   "metadata": {},
   "source": [
    " 13. Create a code to count the occurrences of each element in a list and return a dictionary with elements as keys and their counts as values."
   ]
  },
  {
   "cell_type": "code",
   "execution_count": 15,
   "id": "262cb85b",
   "metadata": {},
   "outputs": [
    {
     "name": "stdout",
     "output_type": "stream",
     "text": [
      "{1: 1, 2: 3, 3: 1, 4: 1, 5: 1}\n"
     ]
    }
   ],
   "source": [
    "my_list = [1, 2, 3, 2, 4, 2, 5]\n",
    "\n",
    "element_counts = {}\n",
    "\n",
    "for element in my_list:\n",
    "    if element in element_counts:\n",
    "        element_counts[element] += 1\n",
    "    else:\n",
    "        element_counts[element] = 1\n",
    "\n",
    "print(element_counts)"
   ]
  },
  {
   "cell_type": "markdown",
   "id": "ab3dbedd",
   "metadata": {},
   "source": [
    " 14. Write a code to reverse a list in-place without using any built-in reverse function."
   ]
  },
  {
   "cell_type": "code",
   "execution_count": 16,
   "id": "6cf77a89",
   "metadata": {},
   "outputs": [
    {
     "name": "stdout",
     "output_type": "stream",
     "text": [
      "[5, 4, 3, 2, 1]\n"
     ]
    }
   ],
   "source": [
    "my_list = [1, 2, 3, 4, 5]\n",
    "\n",
    "left = 0\n",
    "right = len(my_list) - 1\n",
    "\n",
    "while left < right:\n",
    "    my_list[left], my_list[right] = my_list[right], my_list[left]\n",
    "    left += 1\n",
    "    right -= 1\n",
    "\n",
    "print(my_list)"
   ]
  },
  {
   "cell_type": "markdown",
   "id": "86242304",
   "metadata": {},
   "source": [
    " 15. Implement a code to find and remove duplicates from a list while preserving the original order of elements."
   ]
  },
  {
   "cell_type": "code",
   "execution_count": 17,
   "id": "2ffecc51",
   "metadata": {},
   "outputs": [
    {
     "name": "stdout",
     "output_type": "stream",
     "text": [
      "[1, 2, 3, 4, 5]\n"
     ]
    }
   ],
   "source": [
    "my_list = [1, 2, 3, 2, 4, 2, 5]\n",
    "\n",
    "unique_list = []\n",
    "seen = set()\n",
    "\n",
    "for element in my_list:\n",
    "    if element not in seen:\n",
    "        seen.add(element)\n",
    "        unique_list.append(element)\n",
    "\n",
    "print(unique_list)"
   ]
  },
  {
   "cell_type": "markdown",
   "id": "0d3de9e7",
   "metadata": {},
   "source": [
    " 16. Create a code to check if a given list is sorted (either in ascending or descending order) or not."
   ]
  },
  {
   "cell_type": "code",
   "execution_count": 36,
   "id": "8cb24ad9",
   "metadata": {},
   "outputs": [
    {
     "name": "stdout",
     "output_type": "stream",
     "text": [
      "The list is sorted.\n"
     ]
    }
   ],
   "source": [
    "my_list = [1, 2, 3, 4, 5]\n",
    "\n",
    "is_ascending = True\n",
    "is_descending = True\n",
    "\n",
    "for i in range(1, len(my_list)):\n",
    "    if my_list[i] > my_list[i-1]:\n",
    "        is_descending = False\n",
    "    elif my_list[i] < my_list[i-1]:\n",
    "        is_ascending = False\n",
    "\n",
    "if is_ascending or is_descending:\n",
    "    print(\"The list is sorted.\")\n",
    "else:\n",
    "    print(\"The list is not sorted.\")"
   ]
  },
  {
   "cell_type": "markdown",
   "id": "77e2fdd3",
   "metadata": {},
   "source": [
    " 17. Write a code to merge two sorted lists into a single sorted list."
   ]
  },
  {
   "cell_type": "code",
   "execution_count": 37,
   "id": "16580368",
   "metadata": {},
   "outputs": [
    {
     "name": "stdout",
     "output_type": "stream",
     "text": [
      "[1, 2, 4, 5, 3, 6]\n"
     ]
    }
   ],
   "source": [
    "def merging_lists(list1, list2):\n",
    "    merged_list = []\n",
    "    i = 0\n",
    "    j = 0\n",
    "\n",
    "    while i < len(list1) and j < len(list2):\n",
    "        if list1[i] < list2[j]:\n",
    "            merged_list.append(list1[i])\n",
    "            i += 1\n",
    "        else:\n",
    "            merged_list.append(list2[j])\n",
    "            j += 1\n",
    "\n",
    "    merged_list += list1[i:]\n",
    "    merged_list += list2[j:]\n",
    "\n",
    "    return merged_list\n",
    "list1 = [1, 5, 3]\n",
    "list2 = [2, 4, 6]\n",
    "merged_list = merging_lists(list1, list2)\n",
    "print(merged_list)\n"
   ]
  },
  {
   "cell_type": "markdown",
   "id": "237b3fc2",
   "metadata": {},
   "source": [
    " 18. Implement a code to find the intersection of two given lists."
   ]
  },
  {
   "cell_type": "code",
   "execution_count": 42,
   "id": "ff60ff71",
   "metadata": {},
   "outputs": [
    {
     "name": "stdout",
     "output_type": "stream",
     "text": [
      "[3]\n"
     ]
    }
   ],
   "source": [
    "def find_intersection(list1, list2):\n",
    "    intersection = []\n",
    "    for element in list1:\n",
    "        if element in list2 and element not in intersection:\n",
    "            intersection.append(element)\n",
    "            return intersection\n",
    "\n",
    "list1 = [1, 2, 3, 4, 5]\n",
    "list2 = [3, 4, 5, 6, 7]\n",
    "intersection = find_intersection(list1, list2)\n",
    "print(intersection) "
   ]
  },
  {
   "cell_type": "markdown",
   "id": "fc507176",
   "metadata": {},
   "source": [
    " 19. Create a code to find the union of two lists without duplicates."
   ]
  },
  {
   "cell_type": "code",
   "execution_count": 47,
   "id": "fafca64e",
   "metadata": {},
   "outputs": [
    {
     "name": "stdout",
     "output_type": "stream",
     "text": [
      "[1, 3]\n"
     ]
    }
   ],
   "source": [
    "def find_union(list1, list2):\n",
    "    union = []\n",
    "    for element in list1:\n",
    "        if element not in union:\n",
    "            union.append(element)\n",
    "        for element in list2:\n",
    "            if element not in union:\n",
    "                union.append(element)\n",
    "            return union\n",
    "        \n",
    "list1 = [1, 2, 3, 4, 5]\n",
    "list2 = [3, 4, 5, 6, 7]\n",
    "union = find_union(list1, list2)\n",
    "print(union) "
   ]
  },
  {
   "cell_type": "markdown",
   "id": "d65a3adb",
   "metadata": {},
   "source": [
    " 20. Write a code to shuffle a given list randomly without using an built-in shuffle functions."
   ]
  },
  {
   "cell_type": "code",
   "execution_count": 50,
   "id": "41ea5a4f",
   "metadata": {},
   "outputs": [
    {
     "name": "stdout",
     "output_type": "stream",
     "text": [
      "[4, 2, 3, 1, 5]\n"
     ]
    }
   ],
   "source": [
    "import random\n",
    "\n",
    "def shuffle_list(list):\n",
    "    for i in range(len(list)):\n",
    "        j = random.randint(0, i)\n",
    "        list[i], list[j] = list[j], list[i]\n",
    "        \n",
    "my_list = [1, 2, 3, 4, 5]\n",
    "shuffle_list(my_list)\n",
    "print(my_list)"
   ]
  },
  {
   "cell_type": "markdown",
   "id": "5c7d4896",
   "metadata": {},
   "source": [
    " 21. Write a code that takes two tuples as input and returns a new tuple containing elements that are common to both input tuples."
   ]
  },
  {
   "cell_type": "code",
   "execution_count": 63,
   "id": "47d3fa85",
   "metadata": {},
   "outputs": [
    {
     "name": "stdout",
     "output_type": "stream",
     "text": [
      "(3, 4, 5)\n"
     ]
    }
   ],
   "source": [
    "def find_common_elements(tuple1, tuple2):\n",
    "    common_elements = []\n",
    "    for element in tuple1:\n",
    "        if element in tuple2 and element not in common_elements:\n",
    "            common_elements.append(element)\n",
    "    return tuple(common_elements)\n",
    "tuple1 = (1, 2, 3, 4, 5)\n",
    "tuple2 = (3, 4, 5, 6, 7)\n",
    "common_tuple = find_common_elements(tuple1, tuple2)\n",
    "print(common_tuple) "
   ]
  },
  {
   "cell_type": "markdown",
   "id": "65632e45",
   "metadata": {},
   "source": [
    " 22. Create a code that prompts the user to enter two sets of integers separated by commas. Then, print the intersection of these two sets."
   ]
  },
  {
   "cell_type": "code",
   "execution_count": 71,
   "id": "79223922",
   "metadata": {},
   "outputs": [
    {
     "name": "stdout",
     "output_type": "stream",
     "text": [
      "Enter the first set of integers (separated by commas): (1,2,3,4,5)\n",
      "Invalid input. Please enter integers separated by commas.\n",
      "Enter the first set of integers (separated by commas): 1,2,3,4,5\n",
      "Enter the second set of integers (separated by commas): 2,5,6,8,2,4,9,3\n",
      "Intersection of the two sets: {2, 3, 4, 5}\n"
     ]
    }
   ],
   "source": [
    "def get_integer_set(prompt):\n",
    "    while True:\n",
    "        try:\n",
    "            input_str = input(prompt)\n",
    "            integer_set = set(map(int, input_str.split(',')))\n",
    "            return integer_set\n",
    "        except ValueError:\n",
    "            print(\"Invalid input. Please enter integers separated by commas.\")\n",
    "\n",
    "set1 = get_integer_set(\"Enter the first set of integers (separated by commas): \")\n",
    "set2 = get_integer_set(\"Enter the second set of integers (separated by commas): \")\n",
    "\n",
    "intersection = set1.intersection(set2)\n",
    "print(\"Intersection of the two sets:\", intersection)"
   ]
  },
  {
   "cell_type": "markdown",
   "id": "2ff195c1",
   "metadata": {},
   "source": [
    " 23. Write a code to concatenate two tuples. The function should take two tuples as input and return a new tuple containing elements from both input tuples."
   ]
  },
  {
   "cell_type": "code",
   "execution_count": 72,
   "id": "87357329",
   "metadata": {},
   "outputs": [
    {
     "name": "stdout",
     "output_type": "stream",
     "text": [
      "(1, 2, 3, 4, 5, 6)\n"
     ]
    }
   ],
   "source": [
    "tuple1 = (1, 2, 3)\n",
    "tuple2 = (4, 5, 6)\n",
    "\n",
    "concatenated_tuple = tuple(list(tuple1) + list(tuple2))\n",
    "\n",
    "print(concatenated_tuple)"
   ]
  },
  {
   "cell_type": "markdown",
   "id": "84c63d67",
   "metadata": {},
   "source": [
    " 24. Develop a code that prompts the user to input two sets of strings. Then print the elements that are present in the first set but not in the second set."
   ]
  },
  {
   "cell_type": "code",
   "execution_count": 74,
   "id": "17942b02",
   "metadata": {},
   "outputs": [
    {
     "name": "stdout",
     "output_type": "stream",
     "text": [
      "Enter the first set of strings (separated by commas): a,b,c,d\n",
      "Enter the second set of strings (separated by commas): b,c,d,g\n",
      "Elements present in the first set but not in the second set: {'a'}\n"
     ]
    }
   ],
   "source": [
    "def get_string_set(prompt):\n",
    "    while True:\n",
    "        try:\n",
    "            input_str = input(prompt)\n",
    "            string_set = set(input_str.split(','))\n",
    "            return string_set\n",
    "        except ValueError:\n",
    "            print(\"Invalid input. Please enter strings separated by commas.\")\n",
    "\n",
    "set1 = get_string_set(\"Enter the first set of strings (separated by commas): \")\n",
    "set2 = get_string_set(\"Enter the second set of strings (separated by commas): \")\n",
    "\n",
    "difference = set1 - set2\n",
    "print(\"Elements present in the first set but not in the second set:\", difference)"
   ]
  },
  {
   "cell_type": "markdown",
   "id": "a82eb3fc",
   "metadata": {},
   "source": [
    " 25. Create a code that takes a tuple and two integers as input. The function should return a new tuple containing elements from the original tuple within the specified range of indices."
   ]
  },
  {
   "cell_type": "code",
   "execution_count": 76,
   "id": "31905886",
   "metadata": {},
   "outputs": [
    {
     "name": "stdout",
     "output_type": "stream",
     "text": [
      "(3, 4)\n"
     ]
    }
   ],
   "source": [
    "def get_tuple_slice(tuple, start, end):\n",
    "    start = max(0, start)\n",
    "    end = min(len(tuple), end)\n",
    "\n",
    "    new_tuple = tuple[start:end]\n",
    "    return new_tuple\n",
    "\n",
    "my_tuple = (1, 2, 3, 4, 5)\n",
    "start_index = 2\n",
    "end_index = 4\n",
    "result = get_tuple_slice(my_tuple, start_index, end_index)\n",
    "print(result)  "
   ]
  },
  {
   "cell_type": "markdown",
   "id": "114c4189",
   "metadata": {},
   "source": [
    " 26. Write a code that prompts the user to input two sets of characters. Then print the union of these two sets."
   ]
  },
  {
   "cell_type": "code",
   "execution_count": 1,
   "id": "cb75cd80",
   "metadata": {},
   "outputs": [
    {
     "name": "stdout",
     "output_type": "stream",
     "text": [
      "Enter the first set of characters: atharva\n",
      "Enter the second set of characters: ghanekar\n",
      "Union of the two sets: {'v', 'h', 'a', 'k', 'r', 't', 'e', 'g', 'n'}\n"
     ]
    }
   ],
   "source": [
    "def find_union(set1, set2):\n",
    "    union_set = set()\n",
    "    union_set.update(set1)\n",
    "    union_set.update(set2)\n",
    "    return union_set\n",
    "\n",
    "if __name__ == \"__main__\":\n",
    "    set1 = set(input(\"Enter the first set of characters: \"))\n",
    "    set2 = set(input(\"Enter the second set of characters: \"))\n",
    "\n",
    "    result = find_union(set1, set2)\n",
    "    print(\"Union of the two sets:\", result)"
   ]
  },
  {
   "cell_type": "markdown",
   "id": "4cef0b64",
   "metadata": {},
   "source": [
    " 27. Develop a code that takes a tuple of integers as input. The function should return the maximum and minimum values from the tuple using tuple unpacking."
   ]
  },
  {
   "cell_type": "code",
   "execution_count": 8,
   "id": "4b7fbc99",
   "metadata": {},
   "outputs": [
    {
     "name": "stdout",
     "output_type": "stream",
     "text": [
      "Enter a tuple of integers (separated by commas): 100, 34\n",
      "Minimum value: 34\n",
      "Maximum value: 100\n"
     ]
    }
   ],
   "source": [
    "def find_min_max(numbers):\n",
    "    if not numbers:\n",
    "        return None  \n",
    "\n",
    "    min_value, max_value = numbers[0], numbers[0]\n",
    "\n",
    "    for num in numbers[1:]:\n",
    "        if num < min_value:\n",
    "            min_value = num\n",
    "        elif num > max_value:\n",
    "            max_value = num\n",
    "\n",
    "    return min_value, max_value\n",
    "\n",
    "user_input = input(\"Enter a tuple of integers (separated by commas): \")\n",
    "numbers = tuple(int(num) for num in user_input.split(\",\"))\n",
    "\n",
    "result = find_min_max(numbers)\n",
    "\n",
    "if result is not None:\n",
    "    min_val, max_val = result\n",
    "    print(\"Minimum value:\", min_val)\n",
    "    print(\"Maximum value:\", max_val)\n",
    "else:\n",
    "    print(\"The tuple is empty.\")"
   ]
  },
  {
   "cell_type": "markdown",
   "id": "824eb6b9",
   "metadata": {},
   "source": [
    " 28. Create a code that defines two sets of integers. Then print the union intersection and difference of these two sets."
   ]
  },
  {
   "cell_type": "code",
   "execution_count": 10,
   "id": "b084c55f",
   "metadata": {},
   "outputs": [
    {
     "name": "stdout",
     "output_type": "stream",
     "text": [
      "Enter the first set of integers (separated by commas): 12,23,34,34\n",
      "Enter the second set of integers (separated by commas): 12,65,78,45,34\n",
      "Union: {65, 34, 12, 45, 78, 23}\n",
      "Intersection: {34, 12}\n",
      "Difference (set1 - set2): {23}\n"
     ]
    }
   ],
   "source": [
    "def find_union_intersection_difference(set1, set2):\n",
    "  \n",
    "    union_set = set1.union(set2)\n",
    "    intersection_set = set1.intersection(set2)\n",
    "    difference_set = set1.difference(set2)\n",
    "\n",
    "    return union_set, intersection_set, difference_set\n",
    "\n",
    "if __name__ == \"__main__\":\n",
    "    set1 = set(map(int, input(\"Enter the first set of integers (separated by commas): \").split(\",\")))\n",
    "    set2 = set(map(int, input(\"Enter the second set of integers (separated by commas): \").split(\",\")))\n",
    "\n",
    "    union, intersection, difference = find_union_intersection_difference(set1, set2)\n",
    "\n",
    "    print(\"Union:\", union)\n",
    "    print(\"Intersection:\", intersection)\n",
    "    print(\"Difference (set1 - set2):\", difference)"
   ]
  },
  {
   "cell_type": "markdown",
   "id": "c17ebbef",
   "metadata": {},
   "source": [
    " 29. Write a code that takes a tuple and an element as input. The function should return the count of occurrences of the given element in the tuple."
   ]
  },
  {
   "cell_type": "code",
   "execution_count": 14,
   "id": "186ae254",
   "metadata": {},
   "outputs": [
    {
     "name": "stdout",
     "output_type": "stream",
     "text": [
      "Enter a tuple of elements (separated by commas): 21,34,45,56,67,78,89,90,21,21\n",
      "Enter the element to count: 21\n",
      "Count of occurrences: 3\n"
     ]
    }
   ],
   "source": [
    "def count_occurrences(tuple, element):\n",
    "\n",
    "    count = 0\n",
    "    for item in tuple:\n",
    "        if item == element:\n",
    "            count += 1\n",
    "    return count\n",
    "\n",
    "if __name__ == \"__main__\":\n",
    "    user_input = input(\"Enter a tuple of elements (separated by commas): \")\n",
    "    elements = tuple(user_input.split(\",\"))\n",
    "\n",
    "    element_to_count = input(\"Enter the element to count: \")\n",
    "\n",
    "    result = count_occurrences(elements, element_to_count)\n",
    "    print(\"Count of occurrences:\", result)"
   ]
  },
  {
   "cell_type": "markdown",
   "id": "4be1fecb",
   "metadata": {},
   "source": [
    " 30. Develop a code that prompts the user to input two sets of strings. Then print the symmetric difference of these two sets."
   ]
  },
  {
   "cell_type": "code",
   "execution_count": 16,
   "id": "344badbc",
   "metadata": {},
   "outputs": [
    {
     "name": "stdout",
     "output_type": "stream",
     "text": [
      "Enter the first set of strings (separated by commas): atharva,rohan,shivang\n",
      "Enter the second set of strings (separated by commas): atharva,rohan,dhanvi\n",
      "Symmetric difference: {'dhanvi', 'shivang'}\n"
     ]
    }
   ],
   "source": [
    "def find_symmetric_difference(set1, set2):\n",
    "    \n",
    "    symmetric_difference = set1.symmetric_difference(set2)\n",
    "    return symmetric_difference\n",
    "\n",
    "if __name__ == \"__main__\":\n",
    "    set1 = set(input(\"Enter the first set of strings (separated by commas): \").split(\",\"))\n",
    "    set2 = set(input(\"Enter the second set of strings (separated by commas): \").split(\",\"))\n",
    "\n",
    "    result = find_symmetric_difference(set1, set2)\n",
    "    print(\"Symmetric difference:\", result)"
   ]
  },
  {
   "cell_type": "markdown",
   "id": "89175d90",
   "metadata": {},
   "source": [
    " 31. Write code that takes a list of words as input and returns a dictionary where the keys are unique words and the values are their frequencies in the input list. "
   ]
  },
  {
   "cell_type": "code",
   "execution_count": 35,
   "id": "80f164f7",
   "metadata": {},
   "outputs": [
    {
     "name": "stdout",
     "output_type": "stream",
     "text": [
      "Enter a list of words (separated by commas): apple,banana,cat,doy,elephant,fox,goat,horse\n",
      "Word Frequencies:\n",
      "apple: 1\n",
      "banana: 1\n",
      "cat: 1\n",
      "doy: 1\n",
      "elephant: 1\n",
      "fox: 1\n",
      "goat: 1\n",
      "horse: 1\n"
     ]
    }
   ],
   "source": [
    "def word_frequencies(words):\n",
    "    freq_dict = {}\n",
    "    for word in words:\n",
    "        freq_dict[word] = freq_dict.get(word, 0) + 1\n",
    "    return freq_dict\n",
    "\n",
    "if __name__ == \"__main__\":\n",
    "    input_string = input(\"Enter a list of words (separated by commas): \")\n",
    "    words = input_string.split(\",\")\n",
    "    \n",
    "    result = word_frequencies(words)\n",
    "    print(\"Word Frequencies:\")\n",
    "    for word, frequency in result.items():\n",
    "        print(f\"{word}: {frequency}\")"
   ]
  },
  {
   "cell_type": "markdown",
   "id": "57d12ee6",
   "metadata": {},
   "source": [
    " 32. Write code that takes two dictionaries as input and merges them into a single dictionary. If there are common keys, the values should be added together."
   ]
  },
  {
   "cell_type": "code",
   "execution_count": 44,
   "id": "094100fb",
   "metadata": {},
   "outputs": [
    {
     "ename": "KeyboardInterrupt",
     "evalue": "Interrupted by user",
     "output_type": "error",
     "traceback": [
      "\u001b[1;31m---------------------------------------------------------------------------\u001b[0m",
      "\u001b[1;31mKeyboardInterrupt\u001b[0m                         Traceback (most recent call last)",
      "Cell \u001b[1;32mIn[44], line 11\u001b[0m\n\u001b[0;32m      8\u001b[0m             \u001b[38;5;28;01mreturn\u001b[39;00m merged_dict\n\u001b[0;32m     10\u001b[0m \u001b[38;5;28;01mif\u001b[39;00m \u001b[38;5;18m__name__\u001b[39m \u001b[38;5;241m==\u001b[39m \u001b[38;5;124m\"\u001b[39m\u001b[38;5;124m__main__\u001b[39m\u001b[38;5;124m\"\u001b[39m:\n\u001b[1;32m---> 11\u001b[0m     dict1_str \u001b[38;5;241m=\u001b[39m \u001b[38;5;28minput\u001b[39m(\u001b[38;5;124m\"\u001b[39m\u001b[38;5;124mEnter the first dictionary (key:value pairs separated by commas): \u001b[39m\u001b[38;5;124m\"\u001b[39m)\n\u001b[0;32m     12\u001b[0m     dict2_str \u001b[38;5;241m=\u001b[39m \u001b[38;5;28minput\u001b[39m(\u001b[38;5;124m\"\u001b[39m\u001b[38;5;124mEnter the second dictionary (key:value pairs separated by commas): \u001b[39m\u001b[38;5;124m\"\u001b[39m)\n\u001b[0;32m     14\u001b[0m     dict1 \u001b[38;5;241m=\u001b[39m \u001b[38;5;28meval\u001b[39m(dict1_str)\n",
      "File \u001b[1;32m~\\anaconda3\\Lib\\site-packages\\ipykernel\\kernelbase.py:1202\u001b[0m, in \u001b[0;36mKernel.raw_input\u001b[1;34m(self, prompt)\u001b[0m\n\u001b[0;32m   1200\u001b[0m     msg \u001b[38;5;241m=\u001b[39m \u001b[38;5;124m\"\u001b[39m\u001b[38;5;124mraw_input was called, but this frontend does not support input requests.\u001b[39m\u001b[38;5;124m\"\u001b[39m\n\u001b[0;32m   1201\u001b[0m     \u001b[38;5;28;01mraise\u001b[39;00m StdinNotImplementedError(msg)\n\u001b[1;32m-> 1202\u001b[0m \u001b[38;5;28;01mreturn\u001b[39;00m \u001b[38;5;28mself\u001b[39m\u001b[38;5;241m.\u001b[39m_input_request(\n\u001b[0;32m   1203\u001b[0m     \u001b[38;5;28mstr\u001b[39m(prompt),\n\u001b[0;32m   1204\u001b[0m     \u001b[38;5;28mself\u001b[39m\u001b[38;5;241m.\u001b[39m_parent_ident[\u001b[38;5;124m\"\u001b[39m\u001b[38;5;124mshell\u001b[39m\u001b[38;5;124m\"\u001b[39m],\n\u001b[0;32m   1205\u001b[0m     \u001b[38;5;28mself\u001b[39m\u001b[38;5;241m.\u001b[39mget_parent(\u001b[38;5;124m\"\u001b[39m\u001b[38;5;124mshell\u001b[39m\u001b[38;5;124m\"\u001b[39m),\n\u001b[0;32m   1206\u001b[0m     password\u001b[38;5;241m=\u001b[39m\u001b[38;5;28;01mFalse\u001b[39;00m,\n\u001b[0;32m   1207\u001b[0m )\n",
      "File \u001b[1;32m~\\anaconda3\\Lib\\site-packages\\ipykernel\\kernelbase.py:1245\u001b[0m, in \u001b[0;36mKernel._input_request\u001b[1;34m(self, prompt, ident, parent, password)\u001b[0m\n\u001b[0;32m   1242\u001b[0m \u001b[38;5;28;01mexcept\u001b[39;00m \u001b[38;5;167;01mKeyboardInterrupt\u001b[39;00m:\n\u001b[0;32m   1243\u001b[0m     \u001b[38;5;66;03m# re-raise KeyboardInterrupt, to truncate traceback\u001b[39;00m\n\u001b[0;32m   1244\u001b[0m     msg \u001b[38;5;241m=\u001b[39m \u001b[38;5;124m\"\u001b[39m\u001b[38;5;124mInterrupted by user\u001b[39m\u001b[38;5;124m\"\u001b[39m\n\u001b[1;32m-> 1245\u001b[0m     \u001b[38;5;28;01mraise\u001b[39;00m \u001b[38;5;167;01mKeyboardInterrupt\u001b[39;00m(msg) \u001b[38;5;28;01mfrom\u001b[39;00m \u001b[38;5;28;01mNone\u001b[39;00m\n\u001b[0;32m   1246\u001b[0m \u001b[38;5;28;01mexcept\u001b[39;00m \u001b[38;5;167;01mException\u001b[39;00m:\n\u001b[0;32m   1247\u001b[0m     \u001b[38;5;28mself\u001b[39m\u001b[38;5;241m.\u001b[39mlog\u001b[38;5;241m.\u001b[39mwarning(\u001b[38;5;124m\"\u001b[39m\u001b[38;5;124mInvalid Message:\u001b[39m\u001b[38;5;124m\"\u001b[39m, exc_info\u001b[38;5;241m=\u001b[39m\u001b[38;5;28;01mTrue\u001b[39;00m)\n",
      "\u001b[1;31mKeyboardInterrupt\u001b[0m: Interrupted by user"
     ]
    }
   ],
   "source": [
    "def merge_dictionaries(dict1, dict2):\n",
    "    \n",
    "    merged_dict = dict1.copy()\n",
    "    for key, value in dict2.items():\n",
    "        if key in merged_dict:\n",
    "            merged_dict[key] += value\n",
    "        else:\n",
    "            merged_dict[key] = value\n",
    "            return merged_dict\n",
    "\n",
    "if __name__ == \"__main__\":\n",
    "    dict1_str = input(\"Enter the first dictionary (key:value pairs separated by commas): \")\n",
    "    dict2_str = input(\"Enter the second dictionary (key:value pairs separated by commas): \")\n",
    "    \n",
    "    dict1 = eval(dict1_str)\n",
    "    dict2 = eval(dict2_str)\n",
    "\n",
    "    merged_dict = merge_dictionaries(dict1, dict2)\n",
    "    print(\"Merged Dictionary:\", merged_dict)"
   ]
  },
  {
   "cell_type": "markdown",
   "id": "c3c29580",
   "metadata": {},
   "source": [
    " 33. Write a code to access a value in a nested dictionary. The function should take the dictionary and a list of keys as input and return the corresponding value. If any of the keys do not exist in the dictionary the function should return None."
   ]
  },
  {
   "cell_type": "code",
   "execution_count": null,
   "id": "bd361b79",
   "metadata": {},
   "outputs": [],
   "source": [
    "def get_nested_value(dictionary, keys):\n",
    "  \n",
    "    try:\n",
    "        for key in keys:\n",
    "            dictionary = dictionary[key]\n",
    "        return dictionary\n",
    "    except KeyError:\n",
    "        return None\n",
    "\n",
    "\n",
    "nested_dict = {\n",
    "    'level1': {\n",
    "        'level2': {\n",
    "            'value': 'Found it'\n",
    "        }\n",
    "    }\n",
    "}\n",
    "\n",
    "keys_to_search = ['level1', 'level2', 'value']\n",
    "result = get_nested_value(nested_dict, keys_to_search)\n",
    "print(result) \n",
    "\n",
    "keys_to_search = ['level1', 'level3']\n",
    "result = get_nested_value(nested_dict, keys_to_search)\n",
    "print(result) "
   ]
  },
  {
   "cell_type": "markdown",
   "id": "55403d13",
   "metadata": {},
   "source": [
    " 34. Write a code that takes a dictionary as input and returns a sorted version of it based on the values. You can choose whether to sort in ascending or descending order."
   ]
  },
  {
   "cell_type": "code",
   "execution_count": 50,
   "id": "5bdb66ed",
   "metadata": {},
   "outputs": [
    {
     "ename": "KeyboardInterrupt",
     "evalue": "Interrupted by user",
     "output_type": "error",
     "traceback": [
      "\u001b[1;31m---------------------------------------------------------------------------\u001b[0m",
      "\u001b[1;31mKeyboardInterrupt\u001b[0m                         Traceback (most recent call last)",
      "Cell \u001b[1;32mIn[50], line 8\u001b[0m\n\u001b[0;32m      5\u001b[0m     \u001b[38;5;28;01mreturn\u001b[39;00m sorted_dict\n\u001b[0;32m      7\u001b[0m \u001b[38;5;28;01mif\u001b[39;00m \u001b[38;5;18m__name__\u001b[39m \u001b[38;5;241m==\u001b[39m \u001b[38;5;124m\"\u001b[39m\u001b[38;5;124m__main__\u001b[39m\u001b[38;5;124m\"\u001b[39m:\n\u001b[1;32m----> 8\u001b[0m     dictionary_str \u001b[38;5;241m=\u001b[39m \u001b[38;5;28minput\u001b[39m(\u001b[38;5;124m\"\u001b[39m\u001b[38;5;124mEnter the dictionary (key:value pairs separated by commas): \u001b[39m\u001b[38;5;124m\"\u001b[39m)\n\u001b[0;32m      9\u001b[0m     dictionary \u001b[38;5;241m=\u001b[39m \u001b[38;5;28meval\u001b[39m(dictionary_str)\n\u001b[0;32m     11\u001b[0m     descending_order \u001b[38;5;241m=\u001b[39m \u001b[38;5;28minput\u001b[39m(\u001b[38;5;124m\"\u001b[39m\u001b[38;5;124mSort in descending order? (y/n): \u001b[39m\u001b[38;5;124m\"\u001b[39m)\n",
      "File \u001b[1;32m~\\anaconda3\\Lib\\site-packages\\ipykernel\\kernelbase.py:1202\u001b[0m, in \u001b[0;36mKernel.raw_input\u001b[1;34m(self, prompt)\u001b[0m\n\u001b[0;32m   1200\u001b[0m     msg \u001b[38;5;241m=\u001b[39m \u001b[38;5;124m\"\u001b[39m\u001b[38;5;124mraw_input was called, but this frontend does not support input requests.\u001b[39m\u001b[38;5;124m\"\u001b[39m\n\u001b[0;32m   1201\u001b[0m     \u001b[38;5;28;01mraise\u001b[39;00m StdinNotImplementedError(msg)\n\u001b[1;32m-> 1202\u001b[0m \u001b[38;5;28;01mreturn\u001b[39;00m \u001b[38;5;28mself\u001b[39m\u001b[38;5;241m.\u001b[39m_input_request(\n\u001b[0;32m   1203\u001b[0m     \u001b[38;5;28mstr\u001b[39m(prompt),\n\u001b[0;32m   1204\u001b[0m     \u001b[38;5;28mself\u001b[39m\u001b[38;5;241m.\u001b[39m_parent_ident[\u001b[38;5;124m\"\u001b[39m\u001b[38;5;124mshell\u001b[39m\u001b[38;5;124m\"\u001b[39m],\n\u001b[0;32m   1205\u001b[0m     \u001b[38;5;28mself\u001b[39m\u001b[38;5;241m.\u001b[39mget_parent(\u001b[38;5;124m\"\u001b[39m\u001b[38;5;124mshell\u001b[39m\u001b[38;5;124m\"\u001b[39m),\n\u001b[0;32m   1206\u001b[0m     password\u001b[38;5;241m=\u001b[39m\u001b[38;5;28;01mFalse\u001b[39;00m,\n\u001b[0;32m   1207\u001b[0m )\n",
      "File \u001b[1;32m~\\anaconda3\\Lib\\site-packages\\ipykernel\\kernelbase.py:1245\u001b[0m, in \u001b[0;36mKernel._input_request\u001b[1;34m(self, prompt, ident, parent, password)\u001b[0m\n\u001b[0;32m   1242\u001b[0m \u001b[38;5;28;01mexcept\u001b[39;00m \u001b[38;5;167;01mKeyboardInterrupt\u001b[39;00m:\n\u001b[0;32m   1243\u001b[0m     \u001b[38;5;66;03m# re-raise KeyboardInterrupt, to truncate traceback\u001b[39;00m\n\u001b[0;32m   1244\u001b[0m     msg \u001b[38;5;241m=\u001b[39m \u001b[38;5;124m\"\u001b[39m\u001b[38;5;124mInterrupted by user\u001b[39m\u001b[38;5;124m\"\u001b[39m\n\u001b[1;32m-> 1245\u001b[0m     \u001b[38;5;28;01mraise\u001b[39;00m \u001b[38;5;167;01mKeyboardInterrupt\u001b[39;00m(msg) \u001b[38;5;28;01mfrom\u001b[39;00m \u001b[38;5;28;01mNone\u001b[39;00m\n\u001b[0;32m   1246\u001b[0m \u001b[38;5;28;01mexcept\u001b[39;00m \u001b[38;5;167;01mException\u001b[39;00m:\n\u001b[0;32m   1247\u001b[0m     \u001b[38;5;28mself\u001b[39m\u001b[38;5;241m.\u001b[39mlog\u001b[38;5;241m.\u001b[39mwarning(\u001b[38;5;124m\"\u001b[39m\u001b[38;5;124mInvalid Message:\u001b[39m\u001b[38;5;124m\"\u001b[39m, exc_info\u001b[38;5;241m=\u001b[39m\u001b[38;5;28;01mTrue\u001b[39;00m)\n",
      "\u001b[1;31mKeyboardInterrupt\u001b[0m: Interrupted by user"
     ]
    }
   ],
   "source": [
    "def sort_dictionary_by_values(dictionary, descending=False):\n",
    "\n",
    "    sorted_items = sorted(dictionary.items(), key=lambda item: item[1], reverse=descending)\n",
    "    sorted_dict = dict(sorted_items)\n",
    "    return sorted_dict\n",
    "\n",
    "if __name__ == \"__main__\":\n",
    "    dictionary_str = input(\"Enter the dictionary (key:value pairs separated by commas): \")\n",
    "    dictionary = eval(dictionary_str)\n",
    "\n",
    "    descending_order = input(\"Sort in descending order? (y/n): \")\n",
    "    if descending_order.lower() == 'y':\n",
    "        descending = True\n",
    "    else:\n",
    "        descending = False\n",
    "\n",
    "    sorted_dict = sort_dictionary_by_values(dictionary, descending)\n",
    "    print(\"Sorted Dictionary:\", sorted_dict)"
   ]
  },
  {
   "cell_type": "markdown",
   "id": "ae92793b",
   "metadata": {},
   "source": [
    " 35. Write a code that inverts a dictionary swapping keys and values. Ensure that the inverted dictionary correctly handles cases where multiple keys have the same value by storing the keys as a list in the inverted dictionary."
   ]
  },
  {
   "cell_type": "code",
   "execution_count": 73,
   "id": "1d628a22",
   "metadata": {},
   "outputs": [
    {
     "name": "stdout",
     "output_type": "stream",
     "text": [
      "Inverted Dictionary: {1: ['a']}\n"
     ]
    }
   ],
   "source": [
    "def invert_dictionary(dictionary):\n",
    "    \n",
    "    inverted_dict = {}\n",
    "    for key, value in dictionary.items():\n",
    "        if value in inverted_dict:\n",
    "            inverted_dict[value].append(key)\n",
    "        else:\n",
    "            inverted_dict[value] = [key]\n",
    "            return inverted_dict\n",
    "\n",
    "if __name__ == \"__main__\":\n",
    "    dictionary = {'a': 1, 'b': 2, 'c': 1}\n",
    "\n",
    "    inverted_dict = invert_dictionary(dictionary)\n",
    "    print(\"Inverted Dictionary:\", inverted_dict)"
   ]
  }
 ],
 "metadata": {
  "kernelspec": {
   "display_name": "Python 3 (ipykernel)",
   "language": "python",
   "name": "python3"
  },
  "language_info": {
   "codemirror_mode": {
    "name": "ipython",
    "version": 3
   },
   "file_extension": ".py",
   "mimetype": "text/x-python",
   "name": "python",
   "nbconvert_exporter": "python",
   "pygments_lexer": "ipython3",
   "version": "3.11.5"
  }
 },
 "nbformat": 4,
 "nbformat_minor": 5
}
